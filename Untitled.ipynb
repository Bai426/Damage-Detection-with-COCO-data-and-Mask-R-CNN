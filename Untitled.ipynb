{
 "cells": [
  {
   "cell_type": "code",
   "execution_count": 5,
   "metadata": {},
   "outputs": [
    {
     "name": "stdout",
     "output_type": "stream",
     "text": [
      "The model and loaded state dict do not match exactly\n",
      "\n",
      "unexpected key in source state_dict: mask_head.convs.0.conv.weight, mask_head.convs.0.conv.bias, mask_head.convs.1.conv.weight, mask_head.convs.1.conv.bias, mask_head.convs.2.conv.weight, mask_head.convs.2.conv.bias, mask_head.convs.3.conv.weight, mask_head.convs.3.conv.bias, mask_head.upsample.weight, mask_head.upsample.bias, mask_head.conv_logits.weight, mask_head.conv_logits.bias\n",
      "\n"
     ]
    }
   ],
   "source": [
    "from mmdet.apis import init_detector, inference_detector, show_result\n",
    "import mmcv\n",
    "\n",
    "config_file = '/home/bys2058/mmdetection/configs/faster_rcnn_r50_fpn_1x.py'\n",
    "checkpoint_file = '/home/bys2058/mmdetection/checkpoints/mask_rcnn_r50_fpn_1x_20181010-069fa190.pth'\n",
    "\n",
    "# build the model from a config file and a checkpoint file\n",
    "model = init_detector(config_file, checkpoint_file, device='cuda:0')\n",
    "\n",
    "# test a single image and show the results\n",
    "img = '/home/bys2058/mmdetection/data/TeamMembers.jpg'  # or img = mmcv.imread(img), which will only load it once\n",
    "img = mmcv.imread(img)\n",
    "result = inference_detector(model, img)\n",
    "# visualize the results in a new window\n",
    "show_result(img, result, model.CLASSES)\n",
    "# or save the visualization results to image files\n",
    "show_result(img, result, model.CLASSES, out_file='/home/bys2058/mmdetection/data/result2.jpg')\n",
    "\n",
    "# # test a video and show the results\n",
    "# video = mmcv.VideoReader('video.mp4')\n",
    "# for frame in video:\n",
    "#     result = inference_detector(model, frame)\n",
    "#     show_result(frame, result, model.CLASSES, wait_time=1)"
   ]
  }
 ],
 "metadata": {
  "kernelspec": {
   "display_name": "Python 3",
   "language": "python",
   "name": "python3"
  },
  "language_info": {
   "codemirror_mode": {
    "name": "ipython",
    "version": 3
   },
   "file_extension": ".py",
   "mimetype": "text/x-python",
   "name": "python",
   "nbconvert_exporter": "python",
   "pygments_lexer": "ipython3",
   "version": "3.7.6"
  }
 },
 "nbformat": 4,
 "nbformat_minor": 4
}
